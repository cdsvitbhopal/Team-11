{
  "nbformat": 4,
  "nbformat_minor": 0,
  "metadata": {
    "colab": {
      "name": "Problem_Statement_7.ipynb",
      "provenance": [],
      "collapsed_sections": []
    },
    "kernelspec": {
      "name": "python3",
      "display_name": "Python 3"
    }
  },
  "cells": [
    {
      "cell_type": "markdown",
      "metadata": {
        "id": "i_paGd_yLbgH"
      },
      "source": [
        "# K-Means Clustering"
      ]
    },
    {
      "cell_type": "markdown",
      "metadata": {
        "id": "nAuqPwTnLipr"
      },
      "source": [
        "## Importing the libraries"
      ]
    },
    {
      "cell_type": "code",
      "metadata": {
        "id": "yUXGcC4KLmcL"
      },
      "source": [
        "import numpy as np\n",
        "import matplotlib.pyplot as plt\n",
        "import pandas as pd"
      ],
      "execution_count": 22,
      "outputs": []
    },
    {
      "cell_type": "markdown",
      "metadata": {
        "id": "5LciKOr8Lo5O"
      },
      "source": [
        "## Importing the dataset"
      ]
    },
    {
      "cell_type": "code",
      "metadata": {
        "id": "9RlmPzZGLtGi"
      },
      "source": [
        "dataset = pd.read_csv('Mall_Customers.csv')"
      ],
      "execution_count": 23,
      "outputs": []
    },
    {
      "cell_type": "code",
      "source": [
        "dataset.boxplot()"
      ],
      "metadata": {
        "colab": {
          "base_uri": "https://localhost:8080/",
          "height": 282
        },
        "id": "EyM4Kmi1YOD9",
        "outputId": "e49514b5-9f51-485f-b6a0-b812626f48f5"
      },
      "execution_count": 24,
      "outputs": [
        {
          "output_type": "execute_result",
          "data": {
            "text/plain": [
              "<matplotlib.axes._subplots.AxesSubplot at 0x7fa90adebb10>"
            ]
          },
          "metadata": {},
          "execution_count": 24
        },
        {
          "output_type": "display_data",
          "data": {
            "text/plain": [
              "<Figure size 432x288 with 1 Axes>"
            ],
            "image/png": "[encoded data removed]"
          },
          "metadata": {
            "needs_background": "light"
          }
        }
      ]
    },
    {
      "cell_type": "code",
      "source": [
        "X = dataset.iloc[:, [2,4]].values\n",
        "print(X)"
      ],
      "metadata": {
        "colab": {
          "base_uri": "https://localhost:8080/"
        },
        "id": "U1yvh2UtYhav",
        "outputId": "1c8186fd-19f0-4aca-ed60-902e5fc685bc"
      },
      "execution_count": 25,
      "outputs": [
        {
          "output_type": "stream",
          "name": "stdout",
          "text": [
            "[[19 39]\n",
            " [21 81]\n",
            " [20  6]\n",
            " [23 77]\n",
            " [31 40]\n",
            " [22 76]\n",
            " [35  6]\n",
            " [23 94]\n",
            " [64  3]\n",
            " [30 72]\n",
            " [67 14]\n",
            " [35 99]\n",
            " [58 15]\n",
            " [24 77]\n",
            " [37 13]\n",
            " [22 79]\n",
            " [35 35]\n",
            " [20 66]\n",
            " [52 29]\n",
            " [35 98]\n",
            " [35 35]\n",
            " [25 73]\n",
            " [46  5]\n",
            " [31 73]\n",
            " [54 14]\n",
            " [29 82]\n",
            " [45 32]\n",
            " [35 61]\n",
            " [40 31]\n",
            " [23 87]\n",
            " [60  4]\n",
            " [21 73]\n",
            " [53  4]\n",
            " [18 92]\n",
            " [49 14]\n",
            " [21 81]\n",
            " [42 17]\n",
            " [30 73]\n",
            " [36 26]\n",
            " [20 75]\n",
            " [65 35]\n",
            " [24 92]\n",
            " [48 36]\n",
            " [31 61]\n",
            " [49 28]\n",
            " [24 65]\n",
            " [50 55]\n",
            " [27 47]\n",
            " [29 42]\n",
            " [31 42]\n",
            " [49 52]\n",
            " [33 60]\n",
            " [31 54]\n",
            " [59 60]\n",
            " [50 45]\n",
            " [47 41]\n",
            " [51 50]\n",
            " [69 46]\n",
            " [27 51]\n",
            " [53 46]\n",
            " [70 56]\n",
            " [19 55]\n",
            " [67 52]\n",
            " [54 59]\n",
            " [63 51]\n",
            " [18 59]\n",
            " [43 50]\n",
            " [68 48]\n",
            " [19 59]\n",
            " [32 47]\n",
            " [70 55]\n",
            " [47 42]\n",
            " [60 49]\n",
            " [60 56]\n",
            " [59 47]\n",
            " [26 54]\n",
            " [45 53]\n",
            " [40 48]\n",
            " [23 52]\n",
            " [49 42]\n",
            " [57 51]\n",
            " [38 55]\n",
            " [67 41]\n",
            " [46 44]\n",
            " [21 57]\n",
            " [48 46]\n",
            " [55 58]\n",
            " [22 55]\n",
            " [34 60]\n",
            " [50 46]\n",
            " [68 55]\n",
            " [18 41]\n",
            " [48 49]\n",
            " [40 40]\n",
            " [32 42]\n",
            " [24 52]\n",
            " [47 47]\n",
            " [27 50]\n",
            " [48 42]\n",
            " [20 49]\n",
            " [23 41]\n",
            " [49 48]\n",
            " [67 59]\n",
            " [26 55]\n",
            " [49 56]\n",
            " [21 42]\n",
            " [66 50]\n",
            " [54 46]\n",
            " [68 43]\n",
            " [66 48]\n",
            " [65 52]\n",
            " [19 54]\n",
            " [38 42]\n",
            " [19 46]\n",
            " [18 48]\n",
            " [19 50]\n",
            " [63 43]\n",
            " [49 59]\n",
            " [51 43]\n",
            " [50 57]\n",
            " [27 56]\n",
            " [38 40]\n",
            " [40 58]\n",
            " [39 91]\n",
            " [23 29]\n",
            " [31 77]\n",
            " [43 35]\n",
            " [40 95]\n",
            " [59 11]\n",
            " [38 75]\n",
            " [47  9]\n",
            " [39 75]\n",
            " [25 34]\n",
            " [31 71]\n",
            " [20  5]\n",
            " [29 88]\n",
            " [44  7]\n",
            " [32 73]\n",
            " [19 10]\n",
            " [35 72]\n",
            " [57  5]\n",
            " [32 93]\n",
            " [28 40]\n",
            " [32 87]\n",
            " [25 12]\n",
            " [28 97]\n",
            " [48 36]\n",
            " [32 74]\n",
            " [34 22]\n",
            " [34 90]\n",
            " [43 17]\n",
            " [39 88]\n",
            " [44 20]\n",
            " [38 76]\n",
            " [47 16]\n",
            " [27 89]\n",
            " [37  1]\n",
            " [30 78]\n",
            " [34  1]\n",
            " [30 73]\n",
            " [56 35]\n",
            " [29 83]\n",
            " [19  5]\n",
            " [31 93]\n",
            " [50 26]\n",
            " [36 75]\n",
            " [42 20]\n",
            " [33 95]\n",
            " [36 27]\n",
            " [32 63]\n",
            " [40 13]\n",
            " [28 75]\n",
            " [36 10]\n",
            " [36 92]\n",
            " [52 13]\n",
            " [30 86]\n",
            " [58 15]\n",
            " [27 69]\n",
            " [59 14]\n",
            " [35 90]\n",
            " [37 32]\n",
            " [32 86]\n",
            " [46 15]\n",
            " [29 88]\n",
            " [41 39]\n",
            " [30 97]\n",
            " [54 24]\n",
            " [28 68]\n",
            " [41 17]\n",
            " [36 85]\n",
            " [34 23]\n",
            " [32 69]\n",
            " [33  8]\n",
            " [38 91]\n",
            " [47 16]\n",
            " [35 79]\n",
            " [45 28]\n",
            " [32 74]\n",
            " [32 18]\n",
            " [30 83]]\n"
          ]
        }
      ]
    },
    {
      "cell_type": "markdown",
      "metadata": {
        "id": "nWC2EWp2Lx5G"
      },
      "source": [
        "## Using the elbow method to find the optimal number of clusters"
      ]
    },
    {
      "cell_type": "code",
      "metadata": {
        "id": "zWs6ciOoL1b3",
        "outputId": "188d1d73-3e58-4e34-a8f5-bc2171a69708",
        "colab": {
          "base_uri": "https://localhost:8080/",
          "height": 295
        }
      },
      "source": [
        "from sklearn.cluster import KMeans\n",
        "wcss = []\n",
        "for i in range(1, 11):\n",
        "    kmeans = KMeans(n_clusters = i, init = 'k-means++', random_state = 42)\n",
        "    kmeans.fit(X)\n",
        "    wcss.append(kmeans.inertia_)\n",
        "plt.plot(range(1, 11), wcss)\n",
        "plt.title('The Elbow Method')\n",
        "plt.xlabel('Number of clusters')\n",
        "plt.ylabel('WCSS')\n",
        "plt.show()"
      ],
      "execution_count": 26,
      "outputs": [
        {
          "output_type": "display_data",
          "data": {
            "text/plain": [
              "<Figure size 432x288 with 1 Axes>"
            ],
            "image/png": "[encoded data removed]"
          },
          "metadata": {
            "needs_background": "light"
          }
        }
      ]
    },
    {
      "cell_type": "markdown",
      "metadata": {
        "id": "VgT0mANLL4Nz"
      },
      "source": [
        "## Training the K-Means model on the dataset"
      ]
    },
    {
      "cell_type": "code",
      "metadata": {
        "id": "cjEfU6ZSMAPl",
        "colab": {
          "base_uri": "https://localhost:8080/"
        },
        "outputId": "3ab9bfca-7dd9-435a-ee0d-9c3c2015254e"
      },
      "source": [
        "kmeans = KMeans(n_clusters = 4, init = 'k-means++', random_state = 0)\n",
        "y_kmeans1 = kmeans.fit_predict(X)\n",
        "print(y_kmeans1)"
      ],
      "execution_count": 28,
      "outputs": [
        {
          "output_type": "stream",
          "name": "stdout",
          "text": [
            "[2 1 0 1 2 1 0 1 0 1 0 1 0 1 0 1 2 2 0 1 2 1 0 1 0 1 0 2 0 1 0 1 0 1 0 1 0\n",
            " 1 0 1 3 1 3 2 0 2 3 2 2 2 3 2 2 3 3 3 3 3 2 3 3 2 3 3 3 2 3 3 2 2 3 3 3 3\n",
            " 3 2 3 2 2 3 3 2 3 3 2 3 3 2 2 3 3 2 3 2 2 2 3 2 3 2 2 3 3 2 3 2 3 3 3 3 3\n",
            " 2 2 2 2 2 3 3 3 3 2 2 2 1 2 1 3 1 0 1 0 1 2 1 0 1 0 1 0 1 0 1 2 1 0 1 3 1\n",
            " 0 1 0 1 0 1 0 1 0 1 0 1 3 1 0 1 0 1 0 1 0 2 0 1 0 1 0 1 0 1 0 1 0 1 0 1 2\n",
            " 1 0 1 0 1 0 1 0 1 0 1 0 1 0 1]\n"
          ]
        }
      ]
    },
    {
      "cell_type": "code",
      "source": [
        ""
      ],
      "metadata": {
        "colab": {
          "base_uri": "https://localhost:8080/"
        },
        "id": "FD096lSmkXTT",
        "outputId": "05196bc6-a47b-4835-f53a-1b686695aebc"
      },
      "execution_count": 30,
      "outputs": [
        {
          "output_type": "stream",
          "name": "stdout",
          "text": [
            "     CustomerID   Genre  Age  Annual Income (k$)  Spending Score (1-100)  \\\n",
            "0             1    Male   19                  15                      39   \n",
            "1             2    Male   21                  15                      81   \n",
            "2             3  Female   20                  16                       6   \n",
            "3             4  Female   23                  16                      77   \n",
            "4             5  Female   31                  17                      40   \n",
            "..          ...     ...  ...                 ...                     ...   \n",
            "195         196  Female   35                 120                      79   \n",
            "196         197  Female   45                 126                      28   \n",
            "197         198    Male   32                 126                      74   \n",
            "198         199    Male   32                 137                      18   \n",
            "199         200    Male   30                 137                      83   \n",
            "\n",
            "     Cluster Number  \n",
            "0                 2  \n",
            "1                 1  \n",
            "2                 0  \n",
            "3                 1  \n",
            "4                 2  \n",
            "..              ...  \n",
            "195               1  \n",
            "196               0  \n",
            "197               1  \n",
            "198               0  \n",
            "199               1  \n",
            "\n",
            "[200 rows x 6 columns]\n"
          ]
        }
      ]
    },
    {
      "cell_type": "markdown",
      "metadata": {
        "id": "e7YrS1JAMFnm"
      },
      "source": [
        "## Visualising the clusters"
      ]
    },
    {
      "cell_type": "code",
      "metadata": {
        "id": "d0ZYecccMHNx",
        "outputId": "2c702525-2cd9-453c-b36e-c5739a9506e9",
        "colab": {
          "base_uri": "https://localhost:8080/",
          "height": 295
        }
      },
      "source": [
        "plt.scatter(X[y_kmeans1 == 0, 0], X[y_kmeans1 == 0, 1], s = 100, c = 'red', label = 'Cluster 1')\n",
        "plt.scatter(X[y_kmeans1 == 1, 0], X[y_kmeans1 == 1, 1], s = 100, c = 'blue', label = 'Cluster 2')\n",
        "plt.scatter(X[y_kmeans1 == 2, 0], X[y_kmeans1 == 2, 1], s = 100, c = 'green', label = 'Cluster 3')\n",
        "plt.scatter(X[y_kmeans1 == 3, 0], X[y_kmeans1 == 3, 1], s = 100, c = 'cyan', label = 'Cluster 4')\n",
        "plt.scatter(kmeans.cluster_centers_[:, 0], kmeans.cluster_centers_[:, 1], s = 300, c = 'yellow', label = 'Centroids')\n",
        "plt.title('Clusters of customers')\n",
        "plt.xlabel('AGE')\n",
        "plt.ylabel('Spending Score (1-100)')\n",
        "plt.legend()\n",
        "plt.show()"
      ],
      "execution_count": 29,
      "outputs": [
        {
          "output_type": "display_data",
          "data": {
            "text/plain": [
              "<Figure size 432x288 with 1 Axes>"
            ],
            "image/png": "[encoded data removed]"
          },
          "metadata": {
            "needs_background": "light"
          }
        }
      ]
    },
    {
      "cell_type": "code",
      "source": [
        "dataset['Cluster Number'] = y_kmeans1\n",
        "print(dataset)"
      ],
      "metadata": {
        "colab": {
          "base_uri": "https://localhost:8080/"
        },
        "id": "s5VqXAw1lb4G",
        "outputId": "c6d81ab6-a777-4ef5-9202-1fd3ac301400"
      },
      "execution_count": 31,
      "outputs": [
        {
          "output_type": "stream",
          "name": "stdout",
          "text": [
            "     CustomerID   Genre  Age  Annual Income (k$)  Spending Score (1-100)  \\\n",
            "0             1    Male   19                  15                      39   \n",
            "1             2    Male   21                  15                      81   \n",
            "2             3  Female   20                  16                       6   \n",
            "3             4  Female   23                  16                      77   \n",
            "4             5  Female   31                  17                      40   \n",
            "..          ...     ...  ...                 ...                     ...   \n",
            "195         196  Female   35                 120                      79   \n",
            "196         197  Female   45                 126                      28   \n",
            "197         198    Male   32                 126                      74   \n",
            "198         199    Male   32                 137                      18   \n",
            "199         200    Male   30                 137                      83   \n",
            "\n",
            "     Cluster Number  \n",
            "0                 2  \n",
            "1                 1  \n",
            "2                 0  \n",
            "3                 1  \n",
            "4                 2  \n",
            "..              ...  \n",
            "195               1  \n",
            "196               0  \n",
            "197               1  \n",
            "198               0  \n",
            "199               1  \n",
            "\n",
            "[200 rows x 6 columns]\n"
          ]
        }
      ]
    },
    {
      "cell_type": "code",
      "source": [
        "dataset.drop(columns=['CustomerID', 'Annual Income (k$)'], axis=1)"
      ],
      "metadata": {
        "colab": {
          "base_uri": "https://localhost:8080/",
          "height": 424
        },
        "id": "h1mRu10OlcTm",
        "outputId": "da64621e-c44b-40ea-e85f-eefb7e5d9b40"
      },
      "execution_count": 34,
      "outputs": [
        {
          "output_type": "execute_result",
          "data": {
            "text/plain": [
              "      Genre  Age  Spending Score (1-100)  Cluster Number\n",
              "0      Male   19                      39               2\n",
              "1      Male   21                      81               1\n",
              "2    Female   20                       6               0\n",
              "3    Female   23                      77               1\n",
              "4    Female   31                      40               2\n",
              "..      ...  ...                     ...             ...\n",
              "195  Female   35                      79               1\n",
              "196  Female   45                      28               0\n",
              "197    Male   32                      74               1\n",
              "198    Male   32                      18               0\n",
              "199    Male   30                      83               1\n",
              "\n",
              "[200 rows x 4 columns]"
            ],
            "text/html": [
              "\n",
              "  <div id=\"df-90a76e7a-0030-4f0d-9f54-667cfedf3da3\">\n",
              "    <div class=\"colab-df-container\">\n",
              "      <div>\n",
              "<style scoped>\n",
              "    .dataframe tbody tr th:only-of-type {\n",
              "        vertical-align: middle;\n",
              "    }\n",
              "\n",
              "    .dataframe tbody tr th {\n",
              "        vertical-align: top;\n",
              "    }\n",
              "\n",
              "    .dataframe thead th {\n",
              "        text-align: right;\n",
              "    }\n",
              "</style>\n",
              "<table border=\"1\" class=\"dataframe\">\n",
              "  <thead>\n",
              "    <tr style=\"text-align: right;\">\n",
              "      <th></th>\n",
              "      <th>Genre</th>\n",
              "      <th>Age</th>\n",
              "      <th>Spending Score (1-100)</th>\n",
              "      <th>Cluster Number</th>\n",
              "    </tr>\n",
              "  </thead>\n",
              "  <tbody>\n",
              "    <tr>\n",
              "      <th>0</th>\n",
              "      <td>Male</td>\n",
              "      <td>19</td>\n",
              "      <td>39</td>\n",
              "      <td>2</td>\n",
              "    </tr>\n",
              "    <tr>\n",
              "      <th>1</th>\n",
              "      <td>Male</td>\n",
              "      <td>21</td>\n",
              "      <td>81</td>\n",
              "      <td>1</td>\n",
              "    </tr>\n",
              "    <tr>\n",
              "      <th>2</th>\n",
              "      <td>Female</td>\n",
              "      <td>20</td>\n",
              "      <td>6</td>\n",
              "      <td>0</td>\n",
              "    </tr>\n",
              "    <tr>\n",
              "      <th>3</th>\n",
              "      <td>Female</td>\n",
              "      <td>23</td>\n",
              "      <td>77</td>\n",
              "      <td>1</td>\n",
              "    </tr>\n",
              "    <tr>\n",
              "      <th>4</th>\n",
              "      <td>Female</td>\n",
              "      <td>31</td>\n",
              "      <td>40</td>\n",
              "      <td>2</td>\n",
              "    </tr>\n",
              "    <tr>\n",
              "      <th>...</th>\n",
              "      <td>...</td>\n",
              "      <td>...</td>\n",
              "      <td>...</td>\n",
              "      <td>...</td>\n",
              "    </tr>\n",
              "    <tr>\n",
              "      <th>195</th>\n",
              "      <td>Female</td>\n",
              "      <td>35</td>\n",
              "      <td>79</td>\n",
              "      <td>1</td>\n",
              "    </tr>\n",
              "    <tr>\n",
              "      <th>196</th>\n",
              "      <td>Female</td>\n",
              "      <td>45</td>\n",
              "      <td>28</td>\n",
              "      <td>0</td>\n",
              "    </tr>\n",
              "    <tr>\n",
              "      <th>197</th>\n",
              "      <td>Male</td>\n",
              "      <td>32</td>\n",
              "      <td>74</td>\n",
              "      <td>1</td>\n",
              "    </tr>\n",
              "    <tr>\n",
              "      <th>198</th>\n",
              "      <td>Male</td>\n",
              "      <td>32</td>\n",
              "      <td>18</td>\n",
              "      <td>0</td>\n",
              "    </tr>\n",
              "    <tr>\n",
              "      <th>199</th>\n",
              "      <td>Male</td>\n",
              "      <td>30</td>\n",
              "      <td>83</td>\n",
              "      <td>1</td>\n",
              "    </tr>\n",
              "  </tbody>\n",
              "</table>\n",
              "<p>200 rows × 4 columns</p>\n",
              "</div>\n",
              "      <button class=\"colab-df-convert\" onclick=\"convertToInteractive('df-90a76e7a-0030-4f0d-9f54-667cfedf3da3')\"\n",
              "              title=\"Convert this dataframe to an interactive table.\"\n",
              "              style=\"display:none;\">\n",
              "        \n",
              "  <svg xmlns=\"http://www.w3.org/2000/svg\" height=\"24px\"viewBox=\"0 0 24 24\"\n",
              "       width=\"24px\">\n",
              "    <path d=\"M0 0h24v24H0V0z\" fill=\"none\"/>\n",
              "    <path d=\"M18.56 5.44l.94 2.06.94-2.06 2.06-.94-2.06-.94-.94-2.06-.94 2.06-2.06.94zm-11 1L8.5 8.5l.94-2.06 2.06-.94-2.06-.94L8.5 2.5l-.94 2.06-2.06.94zm10 10l.94 2.06.94-2.06 2.06-.94-2.06-.94-.94-2.06-.94 2.06-2.06.94z\"/><path d=\"M17.41 7.96l-1.37-1.37c-.4-.4-.92-.59-1.43-.59-.52 0-1.04.2-1.43.59L10.3 9.45l-7.72 7.72c-.78.78-.78 2.05 0 2.83L4 21.41c.39.39.9.59 1.41.59.51 0 1.02-.2 1.41-.59l7.78-7.78 2.81-2.81c.8-.78.8-2.07 0-2.86zM5.41 20L4 18.59l7.72-7.72 1.47 1.35L5.41 20z\"/>\n",
              "  </svg>\n",
              "      </button>\n",
              "      \n",
              "  <style>\n",
              "    .colab-df-container {\n",
              "      display:flex;\n",
              "      flex-wrap:wrap;\n",
              "      gap: 12px;\n",
              "    }\n",
              "\n",
              "    .colab-df-convert {\n",
              "      background-color: #E8F0FE;\n",
              "      border: none;\n",
              "      border-radius: 50%;\n",
              "      cursor: pointer;\n",
              "      display: none;\n",
              "      fill: #1967D2;\n",
              "      height: 32px;\n",
              "      padding: 0 0 0 0;\n",
              "      width: 32px;\n",
              "    }\n",
              "\n",
              "    .colab-df-convert:hover {\n",
              "      background-color: #E2EBFA;\n",
              "      box-shadow: 0px 1px 2px rgba(60, 64, 67, 0.3), 0px 1px 3px 1px rgba(60, 64, 67, 0.15);\n",
              "      fill: #174EA6;\n",
              "    }\n",
              "\n",
              "    [theme=dark] .colab-df-convert {\n",
              "      background-color: #3B4455;\n",
              "      fill: #D2E3FC;\n",
              "    }\n",
              "\n",
              "    [theme=dark] .colab-df-convert:hover {\n",
              "      background-color: #434B5C;\n",
              "      box-shadow: 0px 1px 3px 1px rgba(0, 0, 0, 0.15);\n",
              "      filter: drop-shadow(0px 1px 2px rgba(0, 0, 0, 0.3));\n",
              "      fill: #FFFFFF;\n",
              "    }\n",
              "  </style>\n",
              "\n",
              "      <script>\n",
              "        const buttonEl =\n",
              "          document.querySelector('#df-90a76e7a-0030-4f0d-9f54-667cfedf3da3 button.colab-df-convert');\n",
              "        buttonEl.style.display =\n",
              "          google.colab.kernel.accessAllowed ? 'block' : 'none';\n",
              "\n",
              "        async function convertToInteractive(key) {\n",
              "          const element = document.querySelector('#df-90a76e7a-0030-4f0d-9f54-667cfedf3da3');\n",
              "          const dataTable =\n",
              "            await google.colab.kernel.invokeFunction('convertToInteractive',\n",
              "                                                     [key], {});\n",
              "          if (!dataTable) return;\n",
              "\n",
              "          const docLinkHtml = 'Like what you see? Visit the ' +\n",
              "            '<a target=\"_blank\" href=https://colab.research.google.com/notebooks/data_table.ipynb>data table notebook</a>'\n",
              "            + ' to learn more about interactive tables.';\n",
              "          element.innerHTML = '';\n",
              "          dataTable['output_type'] = 'display_data';\n",
              "          await google.colab.output.renderOutput(dataTable, element);\n",
              "          const docLink = document.createElement('div');\n",
              "          docLink.innerHTML = docLinkHtml;\n",
              "          element.appendChild(docLink);\n",
              "        }\n",
              "      </script>\n",
              "    </div>\n",
              "  </div>\n",
              "  "
            ]
          },
          "metadata": {},
          "execution_count": 34
        }
      ]
    },
    {
      "cell_type": "code",
      "source": [
        "newds = dataset.sort_values(by=['Cluster Number'])"
      ],
      "metadata": {
        "id": "8auO2Z5InQ0E"
      },
      "execution_count": 41,
      "outputs": []
    },
    {
      "cell_type": "code",
      "source": [
        "print(newds)"
      ],
      "metadata": {
        "id": "RyYv89zQoWJw",
        "outputId": "131f54f6-aaf6-4794-a312-0e7323eac557",
        "colab": {
          "base_uri": "https://localhost:8080/"
        }
      },
      "execution_count": 42,
      "outputs": [
        {
          "output_type": "stream",
          "name": "stdout",
          "text": [
            "     CustomerID   Genre  Age  Annual Income (k$)  Spending Score (1-100)  \\\n",
            "178         179    Male   59                  93                      14   \n",
            "30           31    Male   60                  30                       4   \n",
            "32           33    Male   53                  33                       4   \n",
            "164         165    Male   50                  85                      26   \n",
            "144         145    Male   25                  77                      12   \n",
            "..          ...     ...  ...                 ...                     ...   \n",
            "67           68  Female   68                  48                      48   \n",
            "66           67  Female   43                  48                      50   \n",
            "63           64  Female   54                  47                      59   \n",
            "74           75    Male   59                  54                      47   \n",
            "76           77  Female   45                  54                      53   \n",
            "\n",
            "     Cluster Number  \n",
            "178               0  \n",
            "30                0  \n",
            "32                0  \n",
            "164               0  \n",
            "144               0  \n",
            "..              ...  \n",
            "67                3  \n",
            "66                3  \n",
            "63                3  \n",
            "74                3  \n",
            "76                3  \n",
            "\n",
            "[200 rows x 6 columns]\n"
          ]
        }
      ]
    },
    {
      "cell_type": "code",
      "source": [
        "newds = newds.drop(columns=['CustomerID', 'Annual Income (k$)'], axis=1)"
      ],
      "metadata": {
        "id": "KAHHIanypDS4"
      },
      "execution_count": 44,
      "outputs": []
    },
    {
      "cell_type": "code",
      "source": [
        "print(newds)"
      ],
      "metadata": {
        "id": "qsSM-u0_pbAy",
        "outputId": "fcb751b9-ea09-4b1f-aaf2-2633ff7949c3",
        "colab": {
          "base_uri": "https://localhost:8080/"
        }
      },
      "execution_count": 45,
      "outputs": [
        {
          "output_type": "stream",
          "name": "stdout",
          "text": [
            "      Genre  Age  Spending Score (1-100)  Cluster Number\n",
            "178    Male   59                      14               0\n",
            "30     Male   60                       4               0\n",
            "32     Male   53                       4               0\n",
            "164    Male   50                      26               0\n",
            "144    Male   25                      12               0\n",
            "..      ...  ...                     ...             ...\n",
            "67   Female   68                      48               3\n",
            "66   Female   43                      50               3\n",
            "63   Female   54                      59               3\n",
            "74     Male   59                      47               3\n",
            "76   Female   45                      53               3\n",
            "\n",
            "[200 rows x 4 columns]\n"
          ]
        }
      ]
    },
    {
      "cell_type": "code",
      "source": [
        ""
      ],
      "metadata": {
        "id": "4cR0sebKpkG8"
      },
      "execution_count": null,
      "outputs": []
    }
  ]
}